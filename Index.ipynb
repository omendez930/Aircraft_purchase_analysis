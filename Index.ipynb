{
 "cells": [
  {
   "cell_type": "markdown",
   "metadata": {},
   "source": [
    "# Business Problem\n",
    "\n",
    "Your company is expanding in to new industries to diversify its portfolio. Specifically, they are interested in purchasing and operating airplanes for commercial and private enterprises, but do not know anything about the potential risks of aircraft. You are charged with determining which aircraft are the lowest risk for the company to start this new business endeavor. You must then translate your findings into actionable insights that the head of the new aviation division can use to help decide which aircraft to purchase\n"
   ]
  },
  {
   "cell_type": "markdown",
   "metadata": {},
   "source": [
    "## Objective.\n",
    "\n",
    "In order to anaylize the difference in aircraft safety. We first must determine which aircrafts cause the most accidents, we will do by determining the following:\n",
    "\n",
    "* Analyzing the amount of different accidents fatal, serious, Non-Fatal\n",
    "* Aircraft damage\n",
    "* Injury Severity"
   ]
  },
  {
   "cell_type": "markdown",
   "metadata": {},
   "source": [
    "I'll first proceed by installing the neccessary libraries needed to complete these objectives"
   ]
  },
  {
   "cell_type": "markdown",
   "metadata": {},
   "source": [
    "Import neccessary libraries from python\n"
   ]
  },
  {
   "cell_type": "code",
   "execution_count": 2,
   "metadata": {},
   "outputs": [],
   "source": [
    "import numpy as np\n",
    "import pandas as pd\n",
    "import matplotlib.pyplot as plt\n",
    "%matplotlib inline"
   ]
  },
  {
   "cell_type": "markdown",
   "metadata": {},
   "source": [
    "Extract the data required, found in the NTSB database."
   ]
  },
  {
   "cell_type": "code",
   "execution_count": 3,
   "metadata": {},
   "outputs": [
    {
     "name": "stderr",
     "output_type": "stream",
     "text": [
      "C:\\Users\\omend\\AppData\\Local\\Temp\\ipykernel_43364\\2146229675.py:1: DtypeWarning: Columns (6,7,28) have mixed types. Specify dtype option on import or set low_memory=False.\n",
      "  data = pd.read_csv('./data/AviationData.csv', encoding='latin-1')\n"
     ]
    }
   ],
   "source": [
    "data = pd.read_csv('./data/AviationData.csv', encoding='latin-1')"
   ]
  },
  {
   "cell_type": "code",
   "execution_count": 4,
   "metadata": {},
   "outputs": [
    {
     "data": {
      "text/html": [
       "<div>\n",
       "<style scoped>\n",
       "    .dataframe tbody tr th:only-of-type {\n",
       "        vertical-align: middle;\n",
       "    }\n",
       "\n",
       "    .dataframe tbody tr th {\n",
       "        vertical-align: top;\n",
       "    }\n",
       "\n",
       "    .dataframe thead th {\n",
       "        text-align: right;\n",
       "    }\n",
       "</style>\n",
       "<table border=\"1\" class=\"dataframe\">\n",
       "  <thead>\n",
       "    <tr style=\"text-align: right;\">\n",
       "      <th></th>\n",
       "      <th>Event.Id</th>\n",
       "      <th>Investigation.Type</th>\n",
       "      <th>Accident.Number</th>\n",
       "      <th>Event.Date</th>\n",
       "      <th>Location</th>\n",
       "      <th>Country</th>\n",
       "      <th>Latitude</th>\n",
       "      <th>Longitude</th>\n",
       "      <th>Airport.Code</th>\n",
       "      <th>Airport.Name</th>\n",
       "      <th>...</th>\n",
       "      <th>Purpose.of.flight</th>\n",
       "      <th>Air.carrier</th>\n",
       "      <th>Total.Fatal.Injuries</th>\n",
       "      <th>Total.Serious.Injuries</th>\n",
       "      <th>Total.Minor.Injuries</th>\n",
       "      <th>Total.Uninjured</th>\n",
       "      <th>Weather.Condition</th>\n",
       "      <th>Broad.phase.of.flight</th>\n",
       "      <th>Report.Status</th>\n",
       "      <th>Publication.Date</th>\n",
       "    </tr>\n",
       "  </thead>\n",
       "  <tbody>\n",
       "    <tr>\n",
       "      <th>0</th>\n",
       "      <td>20001218X45444</td>\n",
       "      <td>Accident</td>\n",
       "      <td>SEA87LA080</td>\n",
       "      <td>1948-10-24</td>\n",
       "      <td>MOOSE CREEK, ID</td>\n",
       "      <td>United States</td>\n",
       "      <td>NaN</td>\n",
       "      <td>NaN</td>\n",
       "      <td>NaN</td>\n",
       "      <td>NaN</td>\n",
       "      <td>...</td>\n",
       "      <td>Personal</td>\n",
       "      <td>NaN</td>\n",
       "      <td>2.0</td>\n",
       "      <td>0.0</td>\n",
       "      <td>0.0</td>\n",
       "      <td>0.0</td>\n",
       "      <td>UNK</td>\n",
       "      <td>Cruise</td>\n",
       "      <td>Probable Cause</td>\n",
       "      <td>NaN</td>\n",
       "    </tr>\n",
       "    <tr>\n",
       "      <th>1</th>\n",
       "      <td>20001218X45447</td>\n",
       "      <td>Accident</td>\n",
       "      <td>LAX94LA336</td>\n",
       "      <td>1962-07-19</td>\n",
       "      <td>BRIDGEPORT, CA</td>\n",
       "      <td>United States</td>\n",
       "      <td>NaN</td>\n",
       "      <td>NaN</td>\n",
       "      <td>NaN</td>\n",
       "      <td>NaN</td>\n",
       "      <td>...</td>\n",
       "      <td>Personal</td>\n",
       "      <td>NaN</td>\n",
       "      <td>4.0</td>\n",
       "      <td>0.0</td>\n",
       "      <td>0.0</td>\n",
       "      <td>0.0</td>\n",
       "      <td>UNK</td>\n",
       "      <td>Unknown</td>\n",
       "      <td>Probable Cause</td>\n",
       "      <td>19-09-1996</td>\n",
       "    </tr>\n",
       "    <tr>\n",
       "      <th>2</th>\n",
       "      <td>20061025X01555</td>\n",
       "      <td>Accident</td>\n",
       "      <td>NYC07LA005</td>\n",
       "      <td>1974-08-30</td>\n",
       "      <td>Saltville, VA</td>\n",
       "      <td>United States</td>\n",
       "      <td>36.922223</td>\n",
       "      <td>-81.878056</td>\n",
       "      <td>NaN</td>\n",
       "      <td>NaN</td>\n",
       "      <td>...</td>\n",
       "      <td>Personal</td>\n",
       "      <td>NaN</td>\n",
       "      <td>3.0</td>\n",
       "      <td>NaN</td>\n",
       "      <td>NaN</td>\n",
       "      <td>NaN</td>\n",
       "      <td>IMC</td>\n",
       "      <td>Cruise</td>\n",
       "      <td>Probable Cause</td>\n",
       "      <td>26-02-2007</td>\n",
       "    </tr>\n",
       "    <tr>\n",
       "      <th>3</th>\n",
       "      <td>20001218X45448</td>\n",
       "      <td>Accident</td>\n",
       "      <td>LAX96LA321</td>\n",
       "      <td>1977-06-19</td>\n",
       "      <td>EUREKA, CA</td>\n",
       "      <td>United States</td>\n",
       "      <td>NaN</td>\n",
       "      <td>NaN</td>\n",
       "      <td>NaN</td>\n",
       "      <td>NaN</td>\n",
       "      <td>...</td>\n",
       "      <td>Personal</td>\n",
       "      <td>NaN</td>\n",
       "      <td>2.0</td>\n",
       "      <td>0.0</td>\n",
       "      <td>0.0</td>\n",
       "      <td>0.0</td>\n",
       "      <td>IMC</td>\n",
       "      <td>Cruise</td>\n",
       "      <td>Probable Cause</td>\n",
       "      <td>12-09-2000</td>\n",
       "    </tr>\n",
       "    <tr>\n",
       "      <th>4</th>\n",
       "      <td>20041105X01764</td>\n",
       "      <td>Accident</td>\n",
       "      <td>CHI79FA064</td>\n",
       "      <td>1979-08-02</td>\n",
       "      <td>Canton, OH</td>\n",
       "      <td>United States</td>\n",
       "      <td>NaN</td>\n",
       "      <td>NaN</td>\n",
       "      <td>NaN</td>\n",
       "      <td>NaN</td>\n",
       "      <td>...</td>\n",
       "      <td>Personal</td>\n",
       "      <td>NaN</td>\n",
       "      <td>1.0</td>\n",
       "      <td>2.0</td>\n",
       "      <td>NaN</td>\n",
       "      <td>0.0</td>\n",
       "      <td>VMC</td>\n",
       "      <td>Approach</td>\n",
       "      <td>Probable Cause</td>\n",
       "      <td>16-04-1980</td>\n",
       "    </tr>\n",
       "    <tr>\n",
       "      <th>...</th>\n",
       "      <td>...</td>\n",
       "      <td>...</td>\n",
       "      <td>...</td>\n",
       "      <td>...</td>\n",
       "      <td>...</td>\n",
       "      <td>...</td>\n",
       "      <td>...</td>\n",
       "      <td>...</td>\n",
       "      <td>...</td>\n",
       "      <td>...</td>\n",
       "      <td>...</td>\n",
       "      <td>...</td>\n",
       "      <td>...</td>\n",
       "      <td>...</td>\n",
       "      <td>...</td>\n",
       "      <td>...</td>\n",
       "      <td>...</td>\n",
       "      <td>...</td>\n",
       "      <td>...</td>\n",
       "      <td>...</td>\n",
       "      <td>...</td>\n",
       "    </tr>\n",
       "    <tr>\n",
       "      <th>88884</th>\n",
       "      <td>20221227106491</td>\n",
       "      <td>Accident</td>\n",
       "      <td>ERA23LA093</td>\n",
       "      <td>2022-12-26</td>\n",
       "      <td>Annapolis, MD</td>\n",
       "      <td>United States</td>\n",
       "      <td>NaN</td>\n",
       "      <td>NaN</td>\n",
       "      <td>NaN</td>\n",
       "      <td>NaN</td>\n",
       "      <td>...</td>\n",
       "      <td>Personal</td>\n",
       "      <td>NaN</td>\n",
       "      <td>0.0</td>\n",
       "      <td>1.0</td>\n",
       "      <td>0.0</td>\n",
       "      <td>0.0</td>\n",
       "      <td>NaN</td>\n",
       "      <td>NaN</td>\n",
       "      <td>NaN</td>\n",
       "      <td>29-12-2022</td>\n",
       "    </tr>\n",
       "    <tr>\n",
       "      <th>88885</th>\n",
       "      <td>20221227106494</td>\n",
       "      <td>Accident</td>\n",
       "      <td>ERA23LA095</td>\n",
       "      <td>2022-12-26</td>\n",
       "      <td>Hampton, NH</td>\n",
       "      <td>United States</td>\n",
       "      <td>NaN</td>\n",
       "      <td>NaN</td>\n",
       "      <td>NaN</td>\n",
       "      <td>NaN</td>\n",
       "      <td>...</td>\n",
       "      <td>NaN</td>\n",
       "      <td>NaN</td>\n",
       "      <td>0.0</td>\n",
       "      <td>0.0</td>\n",
       "      <td>0.0</td>\n",
       "      <td>0.0</td>\n",
       "      <td>NaN</td>\n",
       "      <td>NaN</td>\n",
       "      <td>NaN</td>\n",
       "      <td>NaN</td>\n",
       "    </tr>\n",
       "    <tr>\n",
       "      <th>88886</th>\n",
       "      <td>20221227106497</td>\n",
       "      <td>Accident</td>\n",
       "      <td>WPR23LA075</td>\n",
       "      <td>2022-12-26</td>\n",
       "      <td>Payson, AZ</td>\n",
       "      <td>United States</td>\n",
       "      <td>341525N</td>\n",
       "      <td>1112021W</td>\n",
       "      <td>PAN</td>\n",
       "      <td>PAYSON</td>\n",
       "      <td>...</td>\n",
       "      <td>Personal</td>\n",
       "      <td>NaN</td>\n",
       "      <td>0.0</td>\n",
       "      <td>0.0</td>\n",
       "      <td>0.0</td>\n",
       "      <td>1.0</td>\n",
       "      <td>VMC</td>\n",
       "      <td>NaN</td>\n",
       "      <td>NaN</td>\n",
       "      <td>27-12-2022</td>\n",
       "    </tr>\n",
       "    <tr>\n",
       "      <th>88887</th>\n",
       "      <td>20221227106498</td>\n",
       "      <td>Accident</td>\n",
       "      <td>WPR23LA076</td>\n",
       "      <td>2022-12-26</td>\n",
       "      <td>Morgan, UT</td>\n",
       "      <td>United States</td>\n",
       "      <td>NaN</td>\n",
       "      <td>NaN</td>\n",
       "      <td>NaN</td>\n",
       "      <td>NaN</td>\n",
       "      <td>...</td>\n",
       "      <td>Personal</td>\n",
       "      <td>MC CESSNA 210N LLC</td>\n",
       "      <td>0.0</td>\n",
       "      <td>0.0</td>\n",
       "      <td>0.0</td>\n",
       "      <td>0.0</td>\n",
       "      <td>NaN</td>\n",
       "      <td>NaN</td>\n",
       "      <td>NaN</td>\n",
       "      <td>NaN</td>\n",
       "    </tr>\n",
       "    <tr>\n",
       "      <th>88888</th>\n",
       "      <td>20221230106513</td>\n",
       "      <td>Accident</td>\n",
       "      <td>ERA23LA097</td>\n",
       "      <td>2022-12-29</td>\n",
       "      <td>Athens, GA</td>\n",
       "      <td>United States</td>\n",
       "      <td>NaN</td>\n",
       "      <td>NaN</td>\n",
       "      <td>NaN</td>\n",
       "      <td>NaN</td>\n",
       "      <td>...</td>\n",
       "      <td>Personal</td>\n",
       "      <td>NaN</td>\n",
       "      <td>0.0</td>\n",
       "      <td>1.0</td>\n",
       "      <td>0.0</td>\n",
       "      <td>1.0</td>\n",
       "      <td>NaN</td>\n",
       "      <td>NaN</td>\n",
       "      <td>NaN</td>\n",
       "      <td>30-12-2022</td>\n",
       "    </tr>\n",
       "  </tbody>\n",
       "</table>\n",
       "<p>88889 rows × 31 columns</p>\n",
       "</div>"
      ],
      "text/plain": [
       "             Event.Id Investigation.Type Accident.Number  Event.Date  \\\n",
       "0      20001218X45444           Accident      SEA87LA080  1948-10-24   \n",
       "1      20001218X45447           Accident      LAX94LA336  1962-07-19   \n",
       "2      20061025X01555           Accident      NYC07LA005  1974-08-30   \n",
       "3      20001218X45448           Accident      LAX96LA321  1977-06-19   \n",
       "4      20041105X01764           Accident      CHI79FA064  1979-08-02   \n",
       "...               ...                ...             ...         ...   \n",
       "88884  20221227106491           Accident      ERA23LA093  2022-12-26   \n",
       "88885  20221227106494           Accident      ERA23LA095  2022-12-26   \n",
       "88886  20221227106497           Accident      WPR23LA075  2022-12-26   \n",
       "88887  20221227106498           Accident      WPR23LA076  2022-12-26   \n",
       "88888  20221230106513           Accident      ERA23LA097  2022-12-29   \n",
       "\n",
       "              Location        Country   Latitude  Longitude Airport.Code  \\\n",
       "0      MOOSE CREEK, ID  United States        NaN        NaN          NaN   \n",
       "1       BRIDGEPORT, CA  United States        NaN        NaN          NaN   \n",
       "2        Saltville, VA  United States  36.922223 -81.878056          NaN   \n",
       "3           EUREKA, CA  United States        NaN        NaN          NaN   \n",
       "4           Canton, OH  United States        NaN        NaN          NaN   \n",
       "...                ...            ...        ...        ...          ...   \n",
       "88884    Annapolis, MD  United States        NaN        NaN          NaN   \n",
       "88885      Hampton, NH  United States        NaN        NaN          NaN   \n",
       "88886       Payson, AZ  United States    341525N   1112021W          PAN   \n",
       "88887       Morgan, UT  United States        NaN        NaN          NaN   \n",
       "88888       Athens, GA  United States        NaN        NaN          NaN   \n",
       "\n",
       "      Airport.Name  ... Purpose.of.flight         Air.carrier  \\\n",
       "0              NaN  ...          Personal                 NaN   \n",
       "1              NaN  ...          Personal                 NaN   \n",
       "2              NaN  ...          Personal                 NaN   \n",
       "3              NaN  ...          Personal                 NaN   \n",
       "4              NaN  ...          Personal                 NaN   \n",
       "...            ...  ...               ...                 ...   \n",
       "88884          NaN  ...          Personal                 NaN   \n",
       "88885          NaN  ...               NaN                 NaN   \n",
       "88886       PAYSON  ...          Personal                 NaN   \n",
       "88887          NaN  ...          Personal  MC CESSNA 210N LLC   \n",
       "88888          NaN  ...          Personal                 NaN   \n",
       "\n",
       "      Total.Fatal.Injuries Total.Serious.Injuries Total.Minor.Injuries  \\\n",
       "0                      2.0                    0.0                  0.0   \n",
       "1                      4.0                    0.0                  0.0   \n",
       "2                      3.0                    NaN                  NaN   \n",
       "3                      2.0                    0.0                  0.0   \n",
       "4                      1.0                    2.0                  NaN   \n",
       "...                    ...                    ...                  ...   \n",
       "88884                  0.0                    1.0                  0.0   \n",
       "88885                  0.0                    0.0                  0.0   \n",
       "88886                  0.0                    0.0                  0.0   \n",
       "88887                  0.0                    0.0                  0.0   \n",
       "88888                  0.0                    1.0                  0.0   \n",
       "\n",
       "      Total.Uninjured Weather.Condition  Broad.phase.of.flight  \\\n",
       "0                 0.0               UNK                 Cruise   \n",
       "1                 0.0               UNK                Unknown   \n",
       "2                 NaN               IMC                 Cruise   \n",
       "3                 0.0               IMC                 Cruise   \n",
       "4                 0.0               VMC               Approach   \n",
       "...               ...               ...                    ...   \n",
       "88884             0.0               NaN                    NaN   \n",
       "88885             0.0               NaN                    NaN   \n",
       "88886             1.0               VMC                    NaN   \n",
       "88887             0.0               NaN                    NaN   \n",
       "88888             1.0               NaN                    NaN   \n",
       "\n",
       "        Report.Status Publication.Date  \n",
       "0      Probable Cause              NaN  \n",
       "1      Probable Cause       19-09-1996  \n",
       "2      Probable Cause       26-02-2007  \n",
       "3      Probable Cause       12-09-2000  \n",
       "4      Probable Cause       16-04-1980  \n",
       "...               ...              ...  \n",
       "88884             NaN       29-12-2022  \n",
       "88885             NaN              NaN  \n",
       "88886             NaN       27-12-2022  \n",
       "88887             NaN              NaN  \n",
       "88888             NaN       30-12-2022  \n",
       "\n",
       "[88889 rows x 31 columns]"
      ]
     },
     "execution_count": 4,
     "metadata": {},
     "output_type": "execute_result"
    }
   ],
   "source": [
    "data"
   ]
  },
  {
   "cell_type": "code",
   "execution_count": 5,
   "metadata": {},
   "outputs": [
    {
     "name": "stdout",
     "output_type": "stream",
     "text": [
      "<class 'pandas.core.frame.DataFrame'>\n",
      "RangeIndex: 88889 entries, 0 to 88888\n",
      "Data columns (total 31 columns):\n",
      " #   Column                  Non-Null Count  Dtype  \n",
      "---  ------                  --------------  -----  \n",
      " 0   Event.Id                88889 non-null  object \n",
      " 1   Investigation.Type      88889 non-null  object \n",
      " 2   Accident.Number         88889 non-null  object \n",
      " 3   Event.Date              88889 non-null  object \n",
      " 4   Location                88837 non-null  object \n",
      " 5   Country                 88663 non-null  object \n",
      " 6   Latitude                34382 non-null  object \n",
      " 7   Longitude               34373 non-null  object \n",
      " 8   Airport.Code            50132 non-null  object \n",
      " 9   Airport.Name            52704 non-null  object \n",
      " 10  Injury.Severity         87889 non-null  object \n",
      " 11  Aircraft.damage         85695 non-null  object \n",
      " 12  Aircraft.Category       32287 non-null  object \n",
      " 13  Registration.Number     87507 non-null  object \n",
      " 14  Make                    88826 non-null  object \n",
      " 15  Model                   88797 non-null  object \n",
      " 16  Amateur.Built           88787 non-null  object \n",
      " 17  Number.of.Engines       82805 non-null  float64\n",
      " 18  Engine.Type             81793 non-null  object \n",
      " 19  FAR.Description         32023 non-null  object \n",
      " 20  Schedule                12582 non-null  object \n",
      " 21  Purpose.of.flight       82697 non-null  object \n",
      " 22  Air.carrier             16648 non-null  object \n",
      " 23  Total.Fatal.Injuries    77488 non-null  float64\n",
      " 24  Total.Serious.Injuries  76379 non-null  float64\n",
      " 25  Total.Minor.Injuries    76956 non-null  float64\n",
      " 26  Total.Uninjured         82977 non-null  float64\n",
      " 27  Weather.Condition       84397 non-null  object \n",
      " 28  Broad.phase.of.flight   61724 non-null  object \n",
      " 29  Report.Status           82505 non-null  object \n",
      " 30  Publication.Date        75118 non-null  object \n",
      "dtypes: float64(5), object(26)\n",
      "memory usage: 21.0+ MB\n"
     ]
    }
   ],
   "source": [
    "data.info()"
   ]
  },
  {
   "cell_type": "code",
   "execution_count": 6,
   "metadata": {},
   "outputs": [
    {
     "data": {
      "text/plain": [
       "array(['Fatal(2)', 'Fatal(4)', 'Fatal(3)', ..., 'Non-Fatal', nan, 'Minor'],\n",
       "      dtype=object)"
      ]
     },
     "execution_count": 6,
     "metadata": {},
     "output_type": "execute_result"
    }
   ],
   "source": [
    "data['Injury.Severity'].values"
   ]
  },
  {
   "cell_type": "code",
   "execution_count": 7,
   "metadata": {},
   "outputs": [
    {
     "data": {
      "text/plain": [
       "1000"
      ]
     },
     "execution_count": 7,
     "metadata": {},
     "output_type": "execute_result"
    }
   ],
   "source": [
    "data['Injury.Severity'].isna().sum()"
   ]
  },
  {
   "cell_type": "markdown",
   "metadata": {},
   "source": [
    "Based off the information we see that there are missing items within the injury severity, and aircraft damage"
   ]
  },
  {
   "cell_type": "code",
   "execution_count": 8,
   "metadata": {},
   "outputs": [],
   "source": [
    "data.dropna(subset=['Injury.Severity', 'Make', 'Aircraft.damage'], inplace=True)"
   ]
  },
  {
   "cell_type": "code",
   "execution_count": 9,
   "metadata": {},
   "outputs": [
    {
     "data": {
      "text/plain": [
       "Event.Id                      0\n",
       "Investigation.Type            0\n",
       "Accident.Number               0\n",
       "Event.Date                    0\n",
       "Location                     45\n",
       "Country                     210\n",
       "Latitude                  51886\n",
       "Longitude                 51896\n",
       "Airport.Code              36254\n",
       "Airport.Name              33723\n",
       "Injury.Severity               0\n",
       "Aircraft.damage               0\n",
       "Aircraft.Category         54803\n",
       "Registration.Number        1172\n",
       "Make                          0\n",
       "Model                        43\n",
       "Amateur.Built                82\n",
       "Number.of.Engines          4528\n",
       "Engine.Type                5439\n",
       "FAR.Description           55031\n",
       "Schedule                  74608\n",
       "Purpose.of.flight          4090\n",
       "Air.carrier               70308\n",
       "Total.Fatal.Injuries      10905\n",
       "Total.Serious.Injuries    12177\n",
       "Total.Minor.Injuries      11466\n",
       "Total.Uninjured            5804\n",
       "Weather.Condition          2876\n",
       "Broad.phase.of.flight     24909\n",
       "Report.Status              4873\n",
       "Publication.Date          13086\n",
       "dtype: int64"
      ]
     },
     "execution_count": 9,
     "metadata": {},
     "output_type": "execute_result"
    }
   ],
   "source": [
    "data.isna().sum()"
   ]
  },
  {
   "cell_type": "code",
   "execution_count": 10,
   "metadata": {},
   "outputs": [
    {
     "data": {
      "text/plain": [
       "0         Fatal(2)\n",
       "1         Fatal(4)\n",
       "2         Fatal(3)\n",
       "3         Fatal(2)\n",
       "4         Fatal(1)\n",
       "           ...    \n",
       "88869    Non-Fatal\n",
       "88873    Non-Fatal\n",
       "88876    Non-Fatal\n",
       "88877        Minor\n",
       "88886    Non-Fatal\n",
       "Name: Injury.Severity, Length: 85164, dtype: object"
      ]
     },
     "execution_count": 10,
     "metadata": {},
     "output_type": "execute_result"
    }
   ],
   "source": [
    "data['Injury.Severity']"
   ]
  },
  {
   "cell_type": "code",
   "execution_count": 11,
   "metadata": {},
   "outputs": [
    {
     "data": {
      "text/plain": [
       "0          Destroyed\n",
       "1          Destroyed\n",
       "2          Destroyed\n",
       "3          Destroyed\n",
       "4          Destroyed\n",
       "            ...     \n",
       "88869    Substantial\n",
       "88873    Substantial\n",
       "88876    Substantial\n",
       "88877    Substantial\n",
       "88886    Substantial\n",
       "Name: Aircraft.damage, Length: 85164, dtype: object"
      ]
     },
     "execution_count": 11,
     "metadata": {},
     "output_type": "execute_result"
    }
   ],
   "source": [
    "data['Aircraft.damage']"
   ]
  },
  {
   "cell_type": "markdown",
   "metadata": {},
   "source": [
    "I noticed that within the 'Injury.Severity' column that Fatal has a number of repeated inputs that have parantheses following the entry. To eliminate any confusion, I will proceed to replace all rows that have 'Fatal' under one category"
   ]
  },
  {
   "cell_type": "code",
   "execution_count": 12,
   "metadata": {},
   "outputs": [],
   "source": [
    "#replacing the () for items within the injury severity column\n",
    "data['Injury.Severity'].replace(regex='\\((\\d+)\\)', value= '', inplace=True)"
   ]
  },
  {
   "cell_type": "markdown",
   "metadata": {},
   "source": [
    "Once we clean the column up. I want to group the injury type by make of the aircraft. Assessing which models have had fatal, serious, minor, Non-Fatal"
   ]
  },
  {
   "cell_type": "code",
   "execution_count": 58,
   "metadata": {},
   "outputs": [
    {
     "data": {
      "text/plain": [
       "17584"
      ]
     },
     "execution_count": 58,
     "metadata": {},
     "output_type": "execute_result"
    }
   ],
   "source": [
    "total_fatal = sum(data['Injury.Severity'] == 'Fatal')\n",
    "total_fatal"
   ]
  },
  {
   "cell_type": "code",
   "execution_count": 68,
   "metadata": {},
   "outputs": [
    {
     "name": "stdout",
     "output_type": "stream",
     "text": [
      "The total percentage of aircraft that have had a fatal outcome: 20.65%\n"
     ]
    }
   ],
   "source": [
    "fatal_percentage = round(total_fatal/len(data['Injury.Severity']) * 100, 2)\n",
    "print(f\"The total percentage of aircraft that have had a fatal outcome: {fatal_percentage}%\")"
   ]
  },
  {
   "cell_type": "code",
   "execution_count": 69,
   "metadata": {},
   "outputs": [
    {
     "data": {
      "text/plain": [
       "65746"
      ]
     },
     "execution_count": 69,
     "metadata": {},
     "output_type": "execute_result"
    }
   ],
   "source": [
    "total_non_fatal = sum(data['Injury.Severity'] == 'Non-Fatal')\n",
    "total_non_fatal"
   ]
  },
  {
   "cell_type": "code",
   "execution_count": 71,
   "metadata": {
    "scrolled": true
   },
   "outputs": [
    {
     "name": "stdout",
     "output_type": "stream",
     "text": [
      "The total percentage of aircraft that have had a non-fatal outcome: 77.2%\n"
     ]
    }
   ],
   "source": [
    "non_fatal_percentage = round(total_non_fatal/len(data['Injury.Severity']) * 100, 2)\n",
    "print(f\"The total percentage of aircraft that have had a non-fatal outcome: {non_fatal_percentage}%\")"
   ]
  },
  {
   "cell_type": "code",
   "execution_count": 72,
   "metadata": {},
   "outputs": [
    {
     "data": {
      "text/plain": [
       "204"
      ]
     },
     "execution_count": 72,
     "metadata": {},
     "output_type": "execute_result"
    }
   ],
   "source": [
    "total_minor = sum(data['Injury.Severity'] == 'Minor')\n",
    "total_minor"
   ]
  },
  {
   "cell_type": "code",
   "execution_count": 73,
   "metadata": {},
   "outputs": [
    {
     "name": "stdout",
     "output_type": "stream",
     "text": [
      "The total percentage of aircraft that have had a non-fatal outcome: 0.24%\n"
     ]
    }
   ],
   "source": [
    "minor_percentage = round(total_minor/len(data['Injury.Severity']) * 100, 2)\n",
    "print(f\"The total percentage of aircraft that have had a non-fatal outcome: {minor_percentage}%\")"
   ]
  },
  {
   "cell_type": "code",
   "execution_count": 76,
   "metadata": {},
   "outputs": [
    {
     "data": {
      "text/plain": [
       "151"
      ]
     },
     "execution_count": 76,
     "metadata": {},
     "output_type": "execute_result"
    }
   ],
   "source": [
    "total_serious = sum(data['Injury.Severity'] == 'Serious')\n",
    "total_serious"
   ]
  },
  {
   "cell_type": "code",
   "execution_count": 77,
   "metadata": {},
   "outputs": [
    {
     "name": "stdout",
     "output_type": "stream",
     "text": [
      "The total percentage of aircraft that have had a non-fatal outcome: 0.18%\n"
     ]
    }
   ],
   "source": [
    "serious_percentage = round(total_serious/len(data['Injury.Severity']) * 100, 2)\n",
    "print(f\"The total percentage of aircraft that have had a non-fatal outcome: {serious_percentage}%\")"
   ]
  },
  {
   "cell_type": "code",
   "execution_count": 90,
   "metadata": {},
   "outputs": [
    {
     "data": {
      "text/plain": [
       "0        Fatal\n",
       "1        Fatal\n",
       "2        Fatal\n",
       "3        Fatal\n",
       "4        Fatal\n",
       "         ...  \n",
       "88839    Fatal\n",
       "88842    Fatal\n",
       "88843    Fatal\n",
       "88845    Fatal\n",
       "88846    Fatal\n",
       "Name: Injury.Severity, Length: 17584, dtype: object"
      ]
     },
     "execution_count": 90,
     "metadata": {},
     "output_type": "execute_result"
    }
   ],
   "source": [
    "fatal = data[data['Injury.Severity'] == 'Fatal']\n",
    "fatal['Injury.Severity']"
   ]
  },
  {
   "cell_type": "code",
   "execution_count": 92,
   "metadata": {},
   "outputs": [
    {
     "data": {
      "text/html": [
       "<div>\n",
       "<style scoped>\n",
       "    .dataframe tbody tr th:only-of-type {\n",
       "        vertical-align: middle;\n",
       "    }\n",
       "\n",
       "    .dataframe tbody tr th {\n",
       "        vertical-align: top;\n",
       "    }\n",
       "\n",
       "    .dataframe thead th {\n",
       "        text-align: right;\n",
       "    }\n",
       "</style>\n",
       "<table border=\"1\" class=\"dataframe\">\n",
       "  <thead>\n",
       "    <tr style=\"text-align: right;\">\n",
       "      <th></th>\n",
       "      <th>Event.Id</th>\n",
       "      <th>Investigation.Type</th>\n",
       "      <th>Accident.Number</th>\n",
       "      <th>Event.Date</th>\n",
       "      <th>Location</th>\n",
       "      <th>Country</th>\n",
       "      <th>Latitude</th>\n",
       "      <th>Longitude</th>\n",
       "      <th>Airport.Code</th>\n",
       "      <th>Airport.Name</th>\n",
       "      <th>...</th>\n",
       "      <th>Air.carrier</th>\n",
       "      <th>Total.Fatal.Injuries</th>\n",
       "      <th>Total.Serious.Injuries</th>\n",
       "      <th>Total.Minor.Injuries</th>\n",
       "      <th>Total.Uninjured</th>\n",
       "      <th>Weather.Condition</th>\n",
       "      <th>Broad.phase.of.flight</th>\n",
       "      <th>Report.Status</th>\n",
       "      <th>Publication.Date</th>\n",
       "      <th>Injury Percentage</th>\n",
       "    </tr>\n",
       "  </thead>\n",
       "  <tbody>\n",
       "    <tr>\n",
       "      <th>0</th>\n",
       "      <td>20001218X45444</td>\n",
       "      <td>Accident</td>\n",
       "      <td>SEA87LA080</td>\n",
       "      <td>1948-10-24</td>\n",
       "      <td>MOOSE CREEK, ID</td>\n",
       "      <td>United States</td>\n",
       "      <td>NaN</td>\n",
       "      <td>NaN</td>\n",
       "      <td>NaN</td>\n",
       "      <td>NaN</td>\n",
       "      <td>...</td>\n",
       "      <td>NaN</td>\n",
       "      <td>2.0</td>\n",
       "      <td>0.0</td>\n",
       "      <td>0.0</td>\n",
       "      <td>0.0</td>\n",
       "      <td>UNK</td>\n",
       "      <td>Cruise</td>\n",
       "      <td>Probable Cause</td>\n",
       "      <td>NaN</td>\n",
       "      <td>20.65</td>\n",
       "    </tr>\n",
       "    <tr>\n",
       "      <th>1</th>\n",
       "      <td>20001218X45447</td>\n",
       "      <td>Accident</td>\n",
       "      <td>LAX94LA336</td>\n",
       "      <td>1962-07-19</td>\n",
       "      <td>BRIDGEPORT, CA</td>\n",
       "      <td>United States</td>\n",
       "      <td>NaN</td>\n",
       "      <td>NaN</td>\n",
       "      <td>NaN</td>\n",
       "      <td>NaN</td>\n",
       "      <td>...</td>\n",
       "      <td>NaN</td>\n",
       "      <td>4.0</td>\n",
       "      <td>0.0</td>\n",
       "      <td>0.0</td>\n",
       "      <td>0.0</td>\n",
       "      <td>UNK</td>\n",
       "      <td>Unknown</td>\n",
       "      <td>Probable Cause</td>\n",
       "      <td>19-09-1996</td>\n",
       "      <td>0.18</td>\n",
       "    </tr>\n",
       "    <tr>\n",
       "      <th>2</th>\n",
       "      <td>20061025X01555</td>\n",
       "      <td>Accident</td>\n",
       "      <td>NYC07LA005</td>\n",
       "      <td>1974-08-30</td>\n",
       "      <td>Saltville, VA</td>\n",
       "      <td>United States</td>\n",
       "      <td>36.922223</td>\n",
       "      <td>-81.878056</td>\n",
       "      <td>NaN</td>\n",
       "      <td>NaN</td>\n",
       "      <td>...</td>\n",
       "      <td>NaN</td>\n",
       "      <td>3.0</td>\n",
       "      <td>NaN</td>\n",
       "      <td>NaN</td>\n",
       "      <td>NaN</td>\n",
       "      <td>IMC</td>\n",
       "      <td>Cruise</td>\n",
       "      <td>Probable Cause</td>\n",
       "      <td>26-02-2007</td>\n",
       "      <td>3.03</td>\n",
       "    </tr>\n",
       "    <tr>\n",
       "      <th>3</th>\n",
       "      <td>20001218X45448</td>\n",
       "      <td>Accident</td>\n",
       "      <td>LAX96LA321</td>\n",
       "      <td>1977-06-19</td>\n",
       "      <td>EUREKA, CA</td>\n",
       "      <td>United States</td>\n",
       "      <td>NaN</td>\n",
       "      <td>NaN</td>\n",
       "      <td>NaN</td>\n",
       "      <td>NaN</td>\n",
       "      <td>...</td>\n",
       "      <td>NaN</td>\n",
       "      <td>2.0</td>\n",
       "      <td>0.0</td>\n",
       "      <td>0.0</td>\n",
       "      <td>0.0</td>\n",
       "      <td>IMC</td>\n",
       "      <td>Cruise</td>\n",
       "      <td>Probable Cause</td>\n",
       "      <td>12-09-2000</td>\n",
       "      <td>NaN</td>\n",
       "    </tr>\n",
       "    <tr>\n",
       "      <th>4</th>\n",
       "      <td>20041105X01764</td>\n",
       "      <td>Accident</td>\n",
       "      <td>CHI79FA064</td>\n",
       "      <td>1979-08-02</td>\n",
       "      <td>Canton, OH</td>\n",
       "      <td>United States</td>\n",
       "      <td>NaN</td>\n",
       "      <td>NaN</td>\n",
       "      <td>NaN</td>\n",
       "      <td>NaN</td>\n",
       "      <td>...</td>\n",
       "      <td>NaN</td>\n",
       "      <td>1.0</td>\n",
       "      <td>2.0</td>\n",
       "      <td>NaN</td>\n",
       "      <td>0.0</td>\n",
       "      <td>VMC</td>\n",
       "      <td>Approach</td>\n",
       "      <td>Probable Cause</td>\n",
       "      <td>16-04-1980</td>\n",
       "      <td>NaN</td>\n",
       "    </tr>\n",
       "    <tr>\n",
       "      <th>...</th>\n",
       "      <td>...</td>\n",
       "      <td>...</td>\n",
       "      <td>...</td>\n",
       "      <td>...</td>\n",
       "      <td>...</td>\n",
       "      <td>...</td>\n",
       "      <td>...</td>\n",
       "      <td>...</td>\n",
       "      <td>...</td>\n",
       "      <td>...</td>\n",
       "      <td>...</td>\n",
       "      <td>...</td>\n",
       "      <td>...</td>\n",
       "      <td>...</td>\n",
       "      <td>...</td>\n",
       "      <td>...</td>\n",
       "      <td>...</td>\n",
       "      <td>...</td>\n",
       "      <td>...</td>\n",
       "      <td>...</td>\n",
       "      <td>...</td>\n",
       "    </tr>\n",
       "    <tr>\n",
       "      <th>88869</th>\n",
       "      <td>20221213106455</td>\n",
       "      <td>Accident</td>\n",
       "      <td>WPR23LA065</td>\n",
       "      <td>2022-12-13</td>\n",
       "      <td>Lewistown, MT</td>\n",
       "      <td>United States</td>\n",
       "      <td>047257N</td>\n",
       "      <td>0109280W</td>\n",
       "      <td>KLWT</td>\n",
       "      <td>Lewiston Municipal Airport</td>\n",
       "      <td>...</td>\n",
       "      <td>NaN</td>\n",
       "      <td>0.0</td>\n",
       "      <td>0.0</td>\n",
       "      <td>0.0</td>\n",
       "      <td>1.0</td>\n",
       "      <td>NaN</td>\n",
       "      <td>NaN</td>\n",
       "      <td>NaN</td>\n",
       "      <td>14-12-2022</td>\n",
       "      <td>NaN</td>\n",
       "    </tr>\n",
       "    <tr>\n",
       "      <th>88873</th>\n",
       "      <td>20221215106463</td>\n",
       "      <td>Accident</td>\n",
       "      <td>ERA23LA090</td>\n",
       "      <td>2022-12-14</td>\n",
       "      <td>San Juan, PR</td>\n",
       "      <td>United States</td>\n",
       "      <td>182724N</td>\n",
       "      <td>0066554W</td>\n",
       "      <td>SIG</td>\n",
       "      <td>FERNANDO LUIS RIBAS DOMINICCI</td>\n",
       "      <td>...</td>\n",
       "      <td>SKY WEST AVIATION INC TRUSTEE</td>\n",
       "      <td>0.0</td>\n",
       "      <td>0.0</td>\n",
       "      <td>0.0</td>\n",
       "      <td>1.0</td>\n",
       "      <td>VMC</td>\n",
       "      <td>NaN</td>\n",
       "      <td>NaN</td>\n",
       "      <td>27-12-2022</td>\n",
       "      <td>NaN</td>\n",
       "    </tr>\n",
       "    <tr>\n",
       "      <th>88876</th>\n",
       "      <td>20221219106475</td>\n",
       "      <td>Accident</td>\n",
       "      <td>WPR23LA069</td>\n",
       "      <td>2022-12-15</td>\n",
       "      <td>Wichita, KS</td>\n",
       "      <td>United States</td>\n",
       "      <td>373829N</td>\n",
       "      <td>0972635W</td>\n",
       "      <td>ICT</td>\n",
       "      <td>WICHITA DWIGHT D EISENHOWER NT</td>\n",
       "      <td>...</td>\n",
       "      <td>NaN</td>\n",
       "      <td>0.0</td>\n",
       "      <td>0.0</td>\n",
       "      <td>0.0</td>\n",
       "      <td>1.0</td>\n",
       "      <td>NaN</td>\n",
       "      <td>NaN</td>\n",
       "      <td>NaN</td>\n",
       "      <td>19-12-2022</td>\n",
       "      <td>NaN</td>\n",
       "    </tr>\n",
       "    <tr>\n",
       "      <th>88877</th>\n",
       "      <td>20221219106470</td>\n",
       "      <td>Accident</td>\n",
       "      <td>ERA23LA091</td>\n",
       "      <td>2022-12-16</td>\n",
       "      <td>Brooksville, FL</td>\n",
       "      <td>United States</td>\n",
       "      <td>282825N</td>\n",
       "      <td>0822719W</td>\n",
       "      <td>BKV</td>\n",
       "      <td>BROOKSVILLE-TAMPA BAY RGNL</td>\n",
       "      <td>...</td>\n",
       "      <td>GERBER RICHARD E</td>\n",
       "      <td>0.0</td>\n",
       "      <td>1.0</td>\n",
       "      <td>0.0</td>\n",
       "      <td>0.0</td>\n",
       "      <td>VMC</td>\n",
       "      <td>NaN</td>\n",
       "      <td>NaN</td>\n",
       "      <td>23-12-2022</td>\n",
       "      <td>NaN</td>\n",
       "    </tr>\n",
       "    <tr>\n",
       "      <th>88886</th>\n",
       "      <td>20221227106497</td>\n",
       "      <td>Accident</td>\n",
       "      <td>WPR23LA075</td>\n",
       "      <td>2022-12-26</td>\n",
       "      <td>Payson, AZ</td>\n",
       "      <td>United States</td>\n",
       "      <td>341525N</td>\n",
       "      <td>1112021W</td>\n",
       "      <td>PAN</td>\n",
       "      <td>PAYSON</td>\n",
       "      <td>...</td>\n",
       "      <td>NaN</td>\n",
       "      <td>0.0</td>\n",
       "      <td>0.0</td>\n",
       "      <td>0.0</td>\n",
       "      <td>1.0</td>\n",
       "      <td>VMC</td>\n",
       "      <td>NaN</td>\n",
       "      <td>NaN</td>\n",
       "      <td>27-12-2022</td>\n",
       "      <td>NaN</td>\n",
       "    </tr>\n",
       "  </tbody>\n",
       "</table>\n",
       "<p>85164 rows × 32 columns</p>\n",
       "</div>"
      ],
      "text/plain": [
       "             Event.Id Investigation.Type Accident.Number  Event.Date  \\\n",
       "0      20001218X45444           Accident      SEA87LA080  1948-10-24   \n",
       "1      20001218X45447           Accident      LAX94LA336  1962-07-19   \n",
       "2      20061025X01555           Accident      NYC07LA005  1974-08-30   \n",
       "3      20001218X45448           Accident      LAX96LA321  1977-06-19   \n",
       "4      20041105X01764           Accident      CHI79FA064  1979-08-02   \n",
       "...               ...                ...             ...         ...   \n",
       "88869  20221213106455           Accident      WPR23LA065  2022-12-13   \n",
       "88873  20221215106463           Accident      ERA23LA090  2022-12-14   \n",
       "88876  20221219106475           Accident      WPR23LA069  2022-12-15   \n",
       "88877  20221219106470           Accident      ERA23LA091  2022-12-16   \n",
       "88886  20221227106497           Accident      WPR23LA075  2022-12-26   \n",
       "\n",
       "              Location        Country   Latitude  Longitude Airport.Code  \\\n",
       "0      MOOSE CREEK, ID  United States        NaN        NaN          NaN   \n",
       "1       BRIDGEPORT, CA  United States        NaN        NaN          NaN   \n",
       "2        Saltville, VA  United States  36.922223 -81.878056          NaN   \n",
       "3           EUREKA, CA  United States        NaN        NaN          NaN   \n",
       "4           Canton, OH  United States        NaN        NaN          NaN   \n",
       "...                ...            ...        ...        ...          ...   \n",
       "88869    Lewistown, MT  United States    047257N   0109280W         KLWT   \n",
       "88873     San Juan, PR  United States    182724N   0066554W          SIG   \n",
       "88876      Wichita, KS  United States    373829N   0972635W          ICT   \n",
       "88877  Brooksville, FL  United States    282825N   0822719W          BKV   \n",
       "88886       Payson, AZ  United States    341525N   1112021W          PAN   \n",
       "\n",
       "                         Airport.Name  ...                    Air.carrier  \\\n",
       "0                                 NaN  ...                            NaN   \n",
       "1                                 NaN  ...                            NaN   \n",
       "2                                 NaN  ...                            NaN   \n",
       "3                                 NaN  ...                            NaN   \n",
       "4                                 NaN  ...                            NaN   \n",
       "...                               ...  ...                            ...   \n",
       "88869      Lewiston Municipal Airport  ...                            NaN   \n",
       "88873   FERNANDO LUIS RIBAS DOMINICCI  ...  SKY WEST AVIATION INC TRUSTEE   \n",
       "88876  WICHITA DWIGHT D EISENHOWER NT  ...                            NaN   \n",
       "88877      BROOKSVILLE-TAMPA BAY RGNL  ...               GERBER RICHARD E   \n",
       "88886                          PAYSON  ...                            NaN   \n",
       "\n",
       "      Total.Fatal.Injuries Total.Serious.Injuries Total.Minor.Injuries  \\\n",
       "0                      2.0                    0.0                  0.0   \n",
       "1                      4.0                    0.0                  0.0   \n",
       "2                      3.0                    NaN                  NaN   \n",
       "3                      2.0                    0.0                  0.0   \n",
       "4                      1.0                    2.0                  NaN   \n",
       "...                    ...                    ...                  ...   \n",
       "88869                  0.0                    0.0                  0.0   \n",
       "88873                  0.0                    0.0                  0.0   \n",
       "88876                  0.0                    0.0                  0.0   \n",
       "88877                  0.0                    1.0                  0.0   \n",
       "88886                  0.0                    0.0                  0.0   \n",
       "\n",
       "      Total.Uninjured Weather.Condition Broad.phase.of.flight   Report.Status  \\\n",
       "0                 0.0               UNK                Cruise  Probable Cause   \n",
       "1                 0.0               UNK               Unknown  Probable Cause   \n",
       "2                 NaN               IMC                Cruise  Probable Cause   \n",
       "3                 0.0               IMC                Cruise  Probable Cause   \n",
       "4                 0.0               VMC              Approach  Probable Cause   \n",
       "...               ...               ...                   ...             ...   \n",
       "88869             1.0               NaN                   NaN             NaN   \n",
       "88873             1.0               VMC                   NaN             NaN   \n",
       "88876             1.0               NaN                   NaN             NaN   \n",
       "88877             0.0               VMC                   NaN             NaN   \n",
       "88886             1.0               VMC                   NaN             NaN   \n",
       "\n",
       "      Publication.Date Injury Percentage  \n",
       "0                  NaN             20.65  \n",
       "1           19-09-1996              0.18  \n",
       "2           26-02-2007              3.03  \n",
       "3           12-09-2000               NaN  \n",
       "4           16-04-1980               NaN  \n",
       "...                ...               ...  \n",
       "88869       14-12-2022               NaN  \n",
       "88873       27-12-2022               NaN  \n",
       "88876       19-12-2022               NaN  \n",
       "88877       23-12-2022               NaN  \n",
       "88886       27-12-2022               NaN  \n",
       "\n",
       "[85164 rows x 32 columns]"
      ]
     },
     "execution_count": 92,
     "metadata": {},
     "output_type": "execute_result"
    }
   ],
   "source": [
    "data['Injury Percentage'] = pd.Series([fatal_percentage, serious_percentage, minor_percentage])\n",
    "data"
   ]
  },
  {
   "cell_type": "code",
   "execution_count": 94,
   "metadata": {},
   "outputs": [
    {
     "data": {
      "text/html": [
       "<div>\n",
       "<style scoped>\n",
       "    .dataframe tbody tr th:only-of-type {\n",
       "        vertical-align: middle;\n",
       "    }\n",
       "\n",
       "    .dataframe tbody tr th {\n",
       "        vertical-align: top;\n",
       "    }\n",
       "\n",
       "    .dataframe thead th {\n",
       "        text-align: right;\n",
       "    }\n",
       "</style>\n",
       "<table border=\"1\" class=\"dataframe\">\n",
       "  <thead>\n",
       "    <tr style=\"text-align: right;\">\n",
       "      <th></th>\n",
       "      <th>Event.Id</th>\n",
       "      <th>Investigation.Type</th>\n",
       "      <th>Accident.Number</th>\n",
       "      <th>Event.Date</th>\n",
       "      <th>Location</th>\n",
       "      <th>Country</th>\n",
       "      <th>Latitude</th>\n",
       "      <th>Longitude</th>\n",
       "      <th>Airport.Code</th>\n",
       "      <th>Airport.Name</th>\n",
       "      <th>...</th>\n",
       "      <th>Purpose.of.flight</th>\n",
       "      <th>Air.carrier</th>\n",
       "      <th>Total.Fatal.Injuries</th>\n",
       "      <th>Total.Serious.Injuries</th>\n",
       "      <th>Total.Minor.Injuries</th>\n",
       "      <th>Total.Uninjured</th>\n",
       "      <th>Weather.Condition</th>\n",
       "      <th>Broad.phase.of.flight</th>\n",
       "      <th>Report.Status</th>\n",
       "      <th>Publication.Date</th>\n",
       "    </tr>\n",
       "  </thead>\n",
       "  <tbody>\n",
       "    <tr>\n",
       "      <th>0</th>\n",
       "      <td>20001218X45444</td>\n",
       "      <td>Accident</td>\n",
       "      <td>SEA87LA080</td>\n",
       "      <td>1948-10-24</td>\n",
       "      <td>MOOSE CREEK, ID</td>\n",
       "      <td>United States</td>\n",
       "      <td>NaN</td>\n",
       "      <td>NaN</td>\n",
       "      <td>NaN</td>\n",
       "      <td>NaN</td>\n",
       "      <td>...</td>\n",
       "      <td>Personal</td>\n",
       "      <td>NaN</td>\n",
       "      <td>2.0</td>\n",
       "      <td>0.0</td>\n",
       "      <td>0.0</td>\n",
       "      <td>0.0</td>\n",
       "      <td>UNK</td>\n",
       "      <td>Cruise</td>\n",
       "      <td>Probable Cause</td>\n",
       "      <td>NaN</td>\n",
       "    </tr>\n",
       "    <tr>\n",
       "      <th>1</th>\n",
       "      <td>20001218X45447</td>\n",
       "      <td>Accident</td>\n",
       "      <td>LAX94LA336</td>\n",
       "      <td>1962-07-19</td>\n",
       "      <td>BRIDGEPORT, CA</td>\n",
       "      <td>United States</td>\n",
       "      <td>NaN</td>\n",
       "      <td>NaN</td>\n",
       "      <td>NaN</td>\n",
       "      <td>NaN</td>\n",
       "      <td>...</td>\n",
       "      <td>Personal</td>\n",
       "      <td>NaN</td>\n",
       "      <td>4.0</td>\n",
       "      <td>0.0</td>\n",
       "      <td>0.0</td>\n",
       "      <td>0.0</td>\n",
       "      <td>UNK</td>\n",
       "      <td>Unknown</td>\n",
       "      <td>Probable Cause</td>\n",
       "      <td>19-09-1996</td>\n",
       "    </tr>\n",
       "    <tr>\n",
       "      <th>2</th>\n",
       "      <td>20061025X01555</td>\n",
       "      <td>Accident</td>\n",
       "      <td>NYC07LA005</td>\n",
       "      <td>1974-08-30</td>\n",
       "      <td>Saltville, VA</td>\n",
       "      <td>United States</td>\n",
       "      <td>36.922223</td>\n",
       "      <td>-81.878056</td>\n",
       "      <td>NaN</td>\n",
       "      <td>NaN</td>\n",
       "      <td>...</td>\n",
       "      <td>Personal</td>\n",
       "      <td>NaN</td>\n",
       "      <td>3.0</td>\n",
       "      <td>NaN</td>\n",
       "      <td>NaN</td>\n",
       "      <td>NaN</td>\n",
       "      <td>IMC</td>\n",
       "      <td>Cruise</td>\n",
       "      <td>Probable Cause</td>\n",
       "      <td>26-02-2007</td>\n",
       "    </tr>\n",
       "    <tr>\n",
       "      <th>3</th>\n",
       "      <td>20001218X45448</td>\n",
       "      <td>Accident</td>\n",
       "      <td>LAX96LA321</td>\n",
       "      <td>1977-06-19</td>\n",
       "      <td>EUREKA, CA</td>\n",
       "      <td>United States</td>\n",
       "      <td>NaN</td>\n",
       "      <td>NaN</td>\n",
       "      <td>NaN</td>\n",
       "      <td>NaN</td>\n",
       "      <td>...</td>\n",
       "      <td>Personal</td>\n",
       "      <td>NaN</td>\n",
       "      <td>2.0</td>\n",
       "      <td>0.0</td>\n",
       "      <td>0.0</td>\n",
       "      <td>0.0</td>\n",
       "      <td>IMC</td>\n",
       "      <td>Cruise</td>\n",
       "      <td>Probable Cause</td>\n",
       "      <td>12-09-2000</td>\n",
       "    </tr>\n",
       "    <tr>\n",
       "      <th>4</th>\n",
       "      <td>20041105X01764</td>\n",
       "      <td>Accident</td>\n",
       "      <td>CHI79FA064</td>\n",
       "      <td>1979-08-02</td>\n",
       "      <td>Canton, OH</td>\n",
       "      <td>United States</td>\n",
       "      <td>NaN</td>\n",
       "      <td>NaN</td>\n",
       "      <td>NaN</td>\n",
       "      <td>NaN</td>\n",
       "      <td>...</td>\n",
       "      <td>Personal</td>\n",
       "      <td>NaN</td>\n",
       "      <td>1.0</td>\n",
       "      <td>2.0</td>\n",
       "      <td>NaN</td>\n",
       "      <td>0.0</td>\n",
       "      <td>VMC</td>\n",
       "      <td>Approach</td>\n",
       "      <td>Probable Cause</td>\n",
       "      <td>16-04-1980</td>\n",
       "    </tr>\n",
       "    <tr>\n",
       "      <th>...</th>\n",
       "      <td>...</td>\n",
       "      <td>...</td>\n",
       "      <td>...</td>\n",
       "      <td>...</td>\n",
       "      <td>...</td>\n",
       "      <td>...</td>\n",
       "      <td>...</td>\n",
       "      <td>...</td>\n",
       "      <td>...</td>\n",
       "      <td>...</td>\n",
       "      <td>...</td>\n",
       "      <td>...</td>\n",
       "      <td>...</td>\n",
       "      <td>...</td>\n",
       "      <td>...</td>\n",
       "      <td>...</td>\n",
       "      <td>...</td>\n",
       "      <td>...</td>\n",
       "      <td>...</td>\n",
       "      <td>...</td>\n",
       "      <td>...</td>\n",
       "    </tr>\n",
       "    <tr>\n",
       "      <th>88869</th>\n",
       "      <td>20221213106455</td>\n",
       "      <td>Accident</td>\n",
       "      <td>WPR23LA065</td>\n",
       "      <td>2022-12-13</td>\n",
       "      <td>Lewistown, MT</td>\n",
       "      <td>United States</td>\n",
       "      <td>047257N</td>\n",
       "      <td>0109280W</td>\n",
       "      <td>KLWT</td>\n",
       "      <td>Lewiston Municipal Airport</td>\n",
       "      <td>...</td>\n",
       "      <td>NaN</td>\n",
       "      <td>NaN</td>\n",
       "      <td>0.0</td>\n",
       "      <td>0.0</td>\n",
       "      <td>0.0</td>\n",
       "      <td>1.0</td>\n",
       "      <td>NaN</td>\n",
       "      <td>NaN</td>\n",
       "      <td>NaN</td>\n",
       "      <td>14-12-2022</td>\n",
       "    </tr>\n",
       "    <tr>\n",
       "      <th>88873</th>\n",
       "      <td>20221215106463</td>\n",
       "      <td>Accident</td>\n",
       "      <td>ERA23LA090</td>\n",
       "      <td>2022-12-14</td>\n",
       "      <td>San Juan, PR</td>\n",
       "      <td>United States</td>\n",
       "      <td>182724N</td>\n",
       "      <td>0066554W</td>\n",
       "      <td>SIG</td>\n",
       "      <td>FERNANDO LUIS RIBAS DOMINICCI</td>\n",
       "      <td>...</td>\n",
       "      <td>Personal</td>\n",
       "      <td>SKY WEST AVIATION INC TRUSTEE</td>\n",
       "      <td>0.0</td>\n",
       "      <td>0.0</td>\n",
       "      <td>0.0</td>\n",
       "      <td>1.0</td>\n",
       "      <td>VMC</td>\n",
       "      <td>NaN</td>\n",
       "      <td>NaN</td>\n",
       "      <td>27-12-2022</td>\n",
       "    </tr>\n",
       "    <tr>\n",
       "      <th>88876</th>\n",
       "      <td>20221219106475</td>\n",
       "      <td>Accident</td>\n",
       "      <td>WPR23LA069</td>\n",
       "      <td>2022-12-15</td>\n",
       "      <td>Wichita, KS</td>\n",
       "      <td>United States</td>\n",
       "      <td>373829N</td>\n",
       "      <td>0972635W</td>\n",
       "      <td>ICT</td>\n",
       "      <td>WICHITA DWIGHT D EISENHOWER NT</td>\n",
       "      <td>...</td>\n",
       "      <td>NaN</td>\n",
       "      <td>NaN</td>\n",
       "      <td>0.0</td>\n",
       "      <td>0.0</td>\n",
       "      <td>0.0</td>\n",
       "      <td>1.0</td>\n",
       "      <td>NaN</td>\n",
       "      <td>NaN</td>\n",
       "      <td>NaN</td>\n",
       "      <td>19-12-2022</td>\n",
       "    </tr>\n",
       "    <tr>\n",
       "      <th>88877</th>\n",
       "      <td>20221219106470</td>\n",
       "      <td>Accident</td>\n",
       "      <td>ERA23LA091</td>\n",
       "      <td>2022-12-16</td>\n",
       "      <td>Brooksville, FL</td>\n",
       "      <td>United States</td>\n",
       "      <td>282825N</td>\n",
       "      <td>0822719W</td>\n",
       "      <td>BKV</td>\n",
       "      <td>BROOKSVILLE-TAMPA BAY RGNL</td>\n",
       "      <td>...</td>\n",
       "      <td>Personal</td>\n",
       "      <td>GERBER RICHARD E</td>\n",
       "      <td>0.0</td>\n",
       "      <td>1.0</td>\n",
       "      <td>0.0</td>\n",
       "      <td>0.0</td>\n",
       "      <td>VMC</td>\n",
       "      <td>NaN</td>\n",
       "      <td>NaN</td>\n",
       "      <td>23-12-2022</td>\n",
       "    </tr>\n",
       "    <tr>\n",
       "      <th>88886</th>\n",
       "      <td>20221227106497</td>\n",
       "      <td>Accident</td>\n",
       "      <td>WPR23LA075</td>\n",
       "      <td>2022-12-26</td>\n",
       "      <td>Payson, AZ</td>\n",
       "      <td>United States</td>\n",
       "      <td>341525N</td>\n",
       "      <td>1112021W</td>\n",
       "      <td>PAN</td>\n",
       "      <td>PAYSON</td>\n",
       "      <td>...</td>\n",
       "      <td>Personal</td>\n",
       "      <td>NaN</td>\n",
       "      <td>0.0</td>\n",
       "      <td>0.0</td>\n",
       "      <td>0.0</td>\n",
       "      <td>1.0</td>\n",
       "      <td>VMC</td>\n",
       "      <td>NaN</td>\n",
       "      <td>NaN</td>\n",
       "      <td>27-12-2022</td>\n",
       "    </tr>\n",
       "  </tbody>\n",
       "</table>\n",
       "<p>85164 rows × 31 columns</p>\n",
       "</div>"
      ],
      "text/plain": [
       "             Event.Id Investigation.Type Accident.Number  Event.Date  \\\n",
       "0      20001218X45444           Accident      SEA87LA080  1948-10-24   \n",
       "1      20001218X45447           Accident      LAX94LA336  1962-07-19   \n",
       "2      20061025X01555           Accident      NYC07LA005  1974-08-30   \n",
       "3      20001218X45448           Accident      LAX96LA321  1977-06-19   \n",
       "4      20041105X01764           Accident      CHI79FA064  1979-08-02   \n",
       "...               ...                ...             ...         ...   \n",
       "88869  20221213106455           Accident      WPR23LA065  2022-12-13   \n",
       "88873  20221215106463           Accident      ERA23LA090  2022-12-14   \n",
       "88876  20221219106475           Accident      WPR23LA069  2022-12-15   \n",
       "88877  20221219106470           Accident      ERA23LA091  2022-12-16   \n",
       "88886  20221227106497           Accident      WPR23LA075  2022-12-26   \n",
       "\n",
       "              Location        Country   Latitude  Longitude Airport.Code  \\\n",
       "0      MOOSE CREEK, ID  United States        NaN        NaN          NaN   \n",
       "1       BRIDGEPORT, CA  United States        NaN        NaN          NaN   \n",
       "2        Saltville, VA  United States  36.922223 -81.878056          NaN   \n",
       "3           EUREKA, CA  United States        NaN        NaN          NaN   \n",
       "4           Canton, OH  United States        NaN        NaN          NaN   \n",
       "...                ...            ...        ...        ...          ...   \n",
       "88869    Lewistown, MT  United States    047257N   0109280W         KLWT   \n",
       "88873     San Juan, PR  United States    182724N   0066554W          SIG   \n",
       "88876      Wichita, KS  United States    373829N   0972635W          ICT   \n",
       "88877  Brooksville, FL  United States    282825N   0822719W          BKV   \n",
       "88886       Payson, AZ  United States    341525N   1112021W          PAN   \n",
       "\n",
       "                         Airport.Name  ... Purpose.of.flight  \\\n",
       "0                                 NaN  ...          Personal   \n",
       "1                                 NaN  ...          Personal   \n",
       "2                                 NaN  ...          Personal   \n",
       "3                                 NaN  ...          Personal   \n",
       "4                                 NaN  ...          Personal   \n",
       "...                               ...  ...               ...   \n",
       "88869      Lewiston Municipal Airport  ...               NaN   \n",
       "88873   FERNANDO LUIS RIBAS DOMINICCI  ...          Personal   \n",
       "88876  WICHITA DWIGHT D EISENHOWER NT  ...               NaN   \n",
       "88877      BROOKSVILLE-TAMPA BAY RGNL  ...          Personal   \n",
       "88886                          PAYSON  ...          Personal   \n",
       "\n",
       "                         Air.carrier Total.Fatal.Injuries  \\\n",
       "0                                NaN                  2.0   \n",
       "1                                NaN                  4.0   \n",
       "2                                NaN                  3.0   \n",
       "3                                NaN                  2.0   \n",
       "4                                NaN                  1.0   \n",
       "...                              ...                  ...   \n",
       "88869                            NaN                  0.0   \n",
       "88873  SKY WEST AVIATION INC TRUSTEE                  0.0   \n",
       "88876                            NaN                  0.0   \n",
       "88877               GERBER RICHARD E                  0.0   \n",
       "88886                            NaN                  0.0   \n",
       "\n",
       "      Total.Serious.Injuries Total.Minor.Injuries Total.Uninjured  \\\n",
       "0                        0.0                  0.0             0.0   \n",
       "1                        0.0                  0.0             0.0   \n",
       "2                        NaN                  NaN             NaN   \n",
       "3                        0.0                  0.0             0.0   \n",
       "4                        2.0                  NaN             0.0   \n",
       "...                      ...                  ...             ...   \n",
       "88869                    0.0                  0.0             1.0   \n",
       "88873                    0.0                  0.0             1.0   \n",
       "88876                    0.0                  0.0             1.0   \n",
       "88877                    1.0                  0.0             0.0   \n",
       "88886                    0.0                  0.0             1.0   \n",
       "\n",
       "      Weather.Condition  Broad.phase.of.flight   Report.Status  \\\n",
       "0                   UNK                 Cruise  Probable Cause   \n",
       "1                   UNK                Unknown  Probable Cause   \n",
       "2                   IMC                 Cruise  Probable Cause   \n",
       "3                   IMC                 Cruise  Probable Cause   \n",
       "4                   VMC               Approach  Probable Cause   \n",
       "...                 ...                    ...             ...   \n",
       "88869               NaN                    NaN             NaN   \n",
       "88873               VMC                    NaN             NaN   \n",
       "88876               NaN                    NaN             NaN   \n",
       "88877               VMC                    NaN             NaN   \n",
       "88886               VMC                    NaN             NaN   \n",
       "\n",
       "      Publication.Date  \n",
       "0                  NaN  \n",
       "1           19-09-1996  \n",
       "2           26-02-2007  \n",
       "3           12-09-2000  \n",
       "4           16-04-1980  \n",
       "...                ...  \n",
       "88869       14-12-2022  \n",
       "88873       27-12-2022  \n",
       "88876       19-12-2022  \n",
       "88877       23-12-2022  \n",
       "88886       27-12-2022  \n",
       "\n",
       "[85164 rows x 31 columns]"
      ]
     },
     "execution_count": 94,
     "metadata": {},
     "output_type": "execute_result"
    }
   ],
   "source": [
    "data.drop('Injury Percentage', axis=1, inplace=True)\n",
    "data"
   ]
  },
  {
   "cell_type": "code",
   "execution_count": 78,
   "metadata": {},
   "outputs": [],
   "source": [
    "#groups the DataFrame data by the columns 'Make' and 'Injury.Severity' and calculates\n",
    "#the size (count) of each group, resetting the index of the resulting DataFrame\n",
    "# grouped again by 'Injury.Severity', and for each group, the maximum size is calculated.\n",
    "\n",
    "injury_type = data.groupby(['Injury.Severity']).size().reset_index().groupby('Injury.Severity').max()"
   ]
  },
  {
   "cell_type": "code",
   "execution_count": 15,
   "metadata": {},
   "outputs": [
    {
     "data": {
      "text/html": [
       "<div>\n",
       "<style scoped>\n",
       "    .dataframe tbody tr th:only-of-type {\n",
       "        vertical-align: middle;\n",
       "    }\n",
       "\n",
       "    .dataframe tbody tr th {\n",
       "        vertical-align: top;\n",
       "    }\n",
       "\n",
       "    .dataframe thead th {\n",
       "        text-align: right;\n",
       "    }\n",
       "</style>\n",
       "<table border=\"1\" class=\"dataframe\">\n",
       "  <thead>\n",
       "    <tr style=\"text-align: right;\">\n",
       "      <th></th>\n",
       "      <th>0</th>\n",
       "    </tr>\n",
       "    <tr>\n",
       "      <th>Injury.Severity</th>\n",
       "      <th></th>\n",
       "    </tr>\n",
       "  </thead>\n",
       "  <tbody>\n",
       "    <tr>\n",
       "      <th>Fatal</th>\n",
       "      <td>17584</td>\n",
       "    </tr>\n",
       "    <tr>\n",
       "      <th>Incident</th>\n",
       "      <td>1390</td>\n",
       "    </tr>\n",
       "    <tr>\n",
       "      <th>Minor</th>\n",
       "      <td>204</td>\n",
       "    </tr>\n",
       "    <tr>\n",
       "      <th>Non-Fatal</th>\n",
       "      <td>65746</td>\n",
       "    </tr>\n",
       "    <tr>\n",
       "      <th>Serious</th>\n",
       "      <td>151</td>\n",
       "    </tr>\n",
       "    <tr>\n",
       "      <th>Unavailable</th>\n",
       "      <td>89</td>\n",
       "    </tr>\n",
       "  </tbody>\n",
       "</table>\n",
       "</div>"
      ],
      "text/plain": [
       "                     0\n",
       "Injury.Severity       \n",
       "Fatal            17584\n",
       "Incident          1390\n",
       "Minor              204\n",
       "Non-Fatal        65746\n",
       "Serious            151\n",
       "Unavailable         89"
      ]
     },
     "execution_count": 15,
     "metadata": {},
     "output_type": "execute_result"
    }
   ],
   "source": [
    "injury_type"
   ]
  },
  {
   "cell_type": "code",
   "execution_count": 16,
   "metadata": {},
   "outputs": [
    {
     "data": {
      "text/plain": [
       "Index(['Fatal', 'Incident', 'Minor', 'Non-Fatal', 'Serious', 'Unavailable'], dtype='object', name='Injury.Severity')"
      ]
     },
     "execution_count": 16,
     "metadata": {},
     "output_type": "execute_result"
    }
   ],
   "source": [
    "injury_type.index"
   ]
  },
  {
   "cell_type": "code",
   "execution_count": 17,
   "metadata": {},
   "outputs": [
    {
     "data": {
      "text/plain": [
       "Index([0], dtype='object')"
      ]
     },
     "execution_count": 17,
     "metadata": {},
     "output_type": "execute_result"
    }
   ],
   "source": [
    "injury_type.columns"
   ]
  },
  {
   "cell_type": "markdown",
   "metadata": {},
   "source": [
    "We would like check and see the number of Fatal accidents vs Minor, Serious, Non-Fatal.\n",
    "\n",
    "* Fatal -> Any injury resulting in death within 30 days of accidents\n",
    "\n",
    "* Incident -> An occurrence other than an accident, associated with the operation of an aircraft, which affects or could affect the safety of operations.\n",
    "\n",
    "* Serious -> Serious injury means any injury which: (1) Requires hospitalization for more than 48 hours, commencing within 7 days from the date of the injury was received; (2) results in a fracture of any bone (except simple fractures of fingers, toes, or nose); (3) causes severe hemorrhages, nerve, muscle, or tendon damage; (4) involves any internal organ; or (5) involves second- or third-degree burns, or any burns affecting more than 5 percent of the body surface.\n",
    "\n",
    "* Minor -> Not specified, although if an injury does not meet the criteria for another injury category"
   ]
  },
  {
   "cell_type": "code",
   "execution_count": 134,
   "metadata": {},
   "outputs": [
    {
     "data": {
      "text/plain": [
       "<function matplotlib.pyplot.show(close=None, block=None)>"
      ]
     },
     "execution_count": 134,
     "metadata": {},
     "output_type": "execute_result"
    },
    {
     "data": {
      "image/png": "[encoded data removed]",
      "text/plain": [
       "<Figure size 1500x600 with 1 Axes>"
      ]
     },
     "metadata": {},
     "output_type": "display_data"
    }
   ],
   "source": [
    "color = ['blue', 'green', 'yellow', 'purple', 'lightblue','coral']\n",
    "fig, ax = plt.subplots(figsize=(15,6))\n",
    "\n",
    "ax.bar(injury_type.index, injury_type[0], color=color, label=injury_type.index)\n",
    "ax.set_xlabel('Injury levels')\n",
    "ax.set_ylabel('Amount of occurences')\n",
    "ax.set_title('Aviation accidents from 19xx-20xx')\n",
    "ax.legend()\n",
    "plt.show"
   ]
  },
  {
   "cell_type": "code",
   "execution_count": null,
   "metadata": {},
   "outputs": [],
   "source": []
  },
  {
   "cell_type": "markdown",
   "metadata": {},
   "source": [
    "Checking the graph above. \n",
    "\n",
    "We can see that a large amount of accidents resulted in Non-Fatal injuries, and significant amount of aircrafts were considered to be 'Fatal'.\n",
    "\n",
    "Let's examine which aircrafts had fatal accidents and which aircrafts had non-fatal accidents"
   ]
  },
  {
   "cell_type": "markdown",
   "metadata": {},
   "source": [
    "We'll analyze the non-fatal first, and save it to a variable"
   ]
  },
  {
   "cell_type": "code",
   "execution_count": 39,
   "metadata": {},
   "outputs": [
    {
     "data": {
      "text/plain": [
       "array(['Non-Fatal', 'Non-Fatal', 'Non-Fatal', ..., 'Non-Fatal',\n",
       "       'Non-Fatal', 'Non-Fatal'], dtype=object)"
      ]
     },
     "execution_count": 39,
     "metadata": {},
     "output_type": "execute_result"
    }
   ],
   "source": [
    "non_fatal_injuries = data[data['Injury.Severity'] == 'Non-Fatal']\n",
    "non_fatal_injuries['Injury.Severity'].values"
   ]
  },
  {
   "cell_type": "markdown",
   "metadata": {},
   "source": [
    "Next, we will assess aircraft damages obtained by each aircraft. Gathering information from which aircrafts are still usable"
   ]
  },
  {
   "cell_type": "code",
   "execution_count": 44,
   "metadata": {},
   "outputs": [
    {
     "data": {
      "text/plain": [
       "0          Destroyed\n",
       "1          Destroyed\n",
       "2          Destroyed\n",
       "3          Destroyed\n",
       "4          Destroyed\n",
       "            ...     \n",
       "88869    Substantial\n",
       "88873    Substantial\n",
       "88876    Substantial\n",
       "88877    Substantial\n",
       "88886    Substantial\n",
       "Name: Aircraft.damage, Length: 85164, dtype: object"
      ]
     },
     "execution_count": 44,
     "metadata": {},
     "output_type": "execute_result"
    }
   ],
   "source": [
    "data['Aircraft.damage']"
   ]
  },
  {
   "cell_type": "markdown",
   "metadata": {},
   "source": [
    "We will check to see if there are any missing values stil within the column. Even though the missing values were removed earlier. Then check to see the values within the column"
   ]
  },
  {
   "cell_type": "code",
   "execution_count": 56,
   "metadata": {},
   "outputs": [
    {
     "data": {
      "text/plain": [
       "0"
      ]
     },
     "execution_count": 56,
     "metadata": {},
     "output_type": "execute_result"
    }
   ],
   "source": [
    "data['Aircraft.damage'].isna().sum()"
   ]
  },
  {
   "cell_type": "code",
   "execution_count": 57,
   "metadata": {},
   "outputs": [
    {
     "data": {
      "text/plain": [
       "array(['Destroyed', 'Destroyed', 'Destroyed', 'Destroyed', 'Destroyed',\n",
       "       'Substantial', 'Destroyed', 'Substantial', 'Substantial',\n",
       "       'Substantial', 'Substantial', 'Substantial', 'Destroyed',\n",
       "       'Destroyed', 'Destroyed', 'Destroyed', 'Destroyed', 'Destroyed',\n",
       "       'Substantial', 'Substantial', 'Substantial', 'Substantial',\n",
       "       'Substantial', 'Minor', 'Destroyed', 'Destroyed', 'Destroyed',\n",
       "       'Substantial', 'Substantial', 'Substantial', 'Substantial',\n",
       "       'Substantial', 'Destroyed', 'Destroyed', 'Destroyed',\n",
       "       'Substantial', 'Destroyed', 'Destroyed', 'Destroyed', 'Destroyed',\n",
       "       'Minor', 'Substantial', 'Substantial', 'Substantial',\n",
       "       'Substantial', 'Substantial', 'Substantial', 'Substantial',\n",
       "       'Substantial', 'Substantial'], dtype=object)"
      ]
     },
     "execution_count": 57,
     "metadata": {},
     "output_type": "execute_result"
    }
   ],
   "source": [
    "data['Aircraft.damage'].head(50).values"
   ]
  },
  {
   "cell_type": "code",
   "execution_count": 55,
   "metadata": {},
   "outputs": [
    {
     "data": {
      "text/plain": [
       "18550"
      ]
     },
     "execution_count": 55,
     "metadata": {},
     "output_type": "execute_result"
    }
   ],
   "source": [
    "destroyed_aircrafts = data['Aircraft.damage'].str.count('Destroyed').sum()\n",
    "destroyed_aircrafts"
   ]
  },
  {
   "cell_type": "code",
   "execution_count": 80,
   "metadata": {},
   "outputs": [
    {
     "name": "stdout",
     "output_type": "stream",
     "text": [
      "Destroyed aircrafts: 21.78%\n"
     ]
    }
   ],
   "source": [
    "destroyed_percentage = round(destroyed_aircrafts / len(data['Aircraft.damage']) * 100, 2)\n",
    "print(f\"Destroyed aircrafts: {destroyed_percentage}%\")"
   ]
  },
  {
   "cell_type": "code",
   "execution_count": 82,
   "metadata": {},
   "outputs": [
    {
     "data": {
      "text/plain": [
       "63943"
      ]
     },
     "execution_count": 82,
     "metadata": {},
     "output_type": "execute_result"
    }
   ],
   "source": [
    "substantial_aircrafts = data['Aircraft.damage'].str.count('Substantial').sum()\n",
    "substantial_aircrafts"
   ]
  },
  {
   "cell_type": "code",
   "execution_count": 83,
   "metadata": {},
   "outputs": [
    {
     "name": "stdout",
     "output_type": "stream",
     "text": [
      "Substantiall damaged aircrafts: 75.08%\n"
     ]
    }
   ],
   "source": [
    "substantial_percentage = round(substantial_aircrafts / len(data['Aircraft.damage']) * 100, 2)\n",
    "print(f\"Substantiall damaged aircrafts: {substantial_percentage}%\")"
   ]
  },
  {
   "cell_type": "code",
   "execution_count": 84,
   "metadata": {},
   "outputs": [
    {
     "data": {
      "text/plain": [
       "2579"
      ]
     },
     "execution_count": 84,
     "metadata": {},
     "output_type": "execute_result"
    }
   ],
   "source": [
    "minor_aircraft = data['Aircraft.damage'].str.count('Minor').sum()\n",
    "minor_aircraft"
   ]
  },
  {
   "cell_type": "code",
   "execution_count": 86,
   "metadata": {},
   "outputs": [
    {
     "name": "stdout",
     "output_type": "stream",
     "text": [
      "Minor damaged aircrafts: 3.03%\n"
     ]
    }
   ],
   "source": [
    "minor_percentage = round(minor_aircraft / len(data['Aircraft.damage']) * 100, 2)\n",
    "print(f\"Minor damaged aircrafts: {minor_percentage}%\")"
   ]
  },
  {
   "cell_type": "code",
   "execution_count": 138,
   "metadata": {},
   "outputs": [
    {
     "data": {
      "text/plain": [
       "pandas.core.frame.DataFrame"
      ]
     },
     "execution_count": 138,
     "metadata": {},
     "output_type": "execute_result"
    }
   ],
   "source": [
    "damaged_aircrafts = data.groupby('Aircraft.damage').size().reset_index().groupby('Aircraft.damage').max()\n",
    "type(damaged_aircrafts)"
   ]
  },
  {
   "cell_type": "code",
   "execution_count": 139,
   "metadata": {},
   "outputs": [
    {
     "data": {
      "image/png": "[encoded data removed]",
      "text/plain": [
       "<Figure size 1000x800 with 1 Axes>"
      ]
     },
     "metadata": {},
     "output_type": "display_data"
    }
   ],
   "source": [
    "fig, ax = plt.subplots(figsize=(10,8))\n",
    "\n",
    "ax.bar(damaged_aircrafts.index,damaged_aircrafts[0], color=color, label=damaged_aircrafts.index)\n",
    "ax.set_xlabel(\"Aircraft Damage Type\")\n",
    "ax.set_ylabel('Amount of Aircrafts damaged')\n",
    "ax.set_title('Aircrafts damages')\n",
    "ax.legend()\n",
    "plt.show()"
   ]
  },
  {
   "cell_type": "markdown",
   "metadata": {},
   "source": [
    "As you can see, the amount of aircrafts that have **substantial damage equate to 75.06%** of the amount of planes. While aircrafts considered **destroyed amount to 21.78%**. Aircrafts with **minor damage equate for 3.03%** of the total amount of planes damaged. Let's focus on the aircrafts that have been in non-fatal accidents and are reported with minor damages"
   ]
  },
  {
   "cell_type": "markdown",
   "metadata": {},
   "source": [
    "Based on the definitions provided by the NTSB and FAA:\n",
    "\n",
    "* **Destroyed** -  if all of its primary structure is damaged to the extent that it would be impracticable to return the aircraft to an airworthy condition by repair.\n",
    "* **Substantial** - damage means damage or failure which adversely affects the structural strength, performance, or flight characteristics of the aircraft, and which would normally require major repair or replacement of the affected component.\n",
    "* **Minor** - means the aircraft either is in an airworthy condition or is restorable to airworthy condition by minor repairs."
   ]
  },
  {
   "cell_type": "code",
   "execution_count": null,
   "metadata": {},
   "outputs": [],
   "source": []
  }
 ],
 "metadata": {
  "kernelspec": {
   "display_name": "Python 3 (ipykernel)",
   "language": "python",
   "name": "python3"
  },
  "language_info": {
   "codemirror_mode": {
    "name": "ipython",
    "version": 3
   },
   "file_extension": ".py",
   "mimetype": "text/x-python",
   "name": "python",
   "nbconvert_exporter": "python",
   "pygments_lexer": "ipython3",
   "version": "3.11.5"
  }
 },
 "nbformat": 4,
 "nbformat_minor": 4
}
